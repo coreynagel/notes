{
 "metadata": {
  "name": "search"
 },
 "nbformat": 3,
 "nbformat_minor": 0,
 "worksheets": [
  {
   "cells": [
    {
     "cell_type": "heading",
     "level": 1,
     "metadata": {},
     "source": [
      "Pacman in IPython notebook"
     ]
    },
    {
     "cell_type": "markdown",
     "metadata": {},
     "source": [
      "**[IPython notebook](http://ipython.org/notebook.html)** is a web-based interactive computational environment where you can combine code execution, text, mathematics, plots and rich media into a single document.  It provides a beautiful and helpful way to present material in an interactive way, and is useful in the classroom as described by Eric Matthes:\n",
      "\n",
      "* [How IPython Notebook and Github have changed the way I teach Python | peak 5390](http://peak5390.wordpress.com/2013/09/22/how-ipython-notebook-and-github-have-changed-the-way-i-teach-python/)\n",
      "\n",
      "This notebook demonstrates how to interact with pacman from ipython notebook, and introduces a new ipython magic command, `%runpacman`, to make it easier.\n",
      "\n",
      "This notebook can be published as a static example, but the real power is that it can be run in the students's local environment, where the student can re-run the examples, modify them, and try new things.  There are many other features in ipython notebook that we haven't taken advantage of yet - stay tuned."
     ]
    },
    {
     "cell_type": "markdown",
     "metadata": {},
     "source": [
      "**Notes for interactive use**:\n",
      "\n",
      "* Note that this notebook should be placed in the \"search\" directory, where python.py is.\n",
      "* If you ever want to stop a pacman game, just use the \"kernel/interrupt\" menu item, also available as the \"stop\" button."
     ]
    },
    {
     "cell_type": "heading",
     "level": 2,
     "metadata": {},
     "source": [
      "The generic way to run a pacman game from ipython notebook"
     ]
    },
    {
     "cell_type": "markdown",
     "metadata": {},
     "source": [
      "Most any python command can be run from ipython via the built-in `%run` macic command, and pacman is no exception."
     ]
    },
    {
     "cell_type": "code",
     "collapsed": false,
     "input": [
      "%run pacman --layout testMaze --pacman GoWestAgent"
     ],
     "language": "python",
     "metadata": {},
     "outputs": [
      {
       "output_type": "stream",
       "stream": "stdout",
       "text": [
        "Pacman emerges victorious! Score: 503\n",
        "Average Score:"
       ]
      },
      {
       "output_type": "stream",
       "stream": "stdout",
       "text": [
        " 503.0\n",
        "Scores:        503.0\n",
        "Win Rate:      1/1 (1.00)\n",
        "Record:        Win\n"
       ]
      }
     ],
     "prompt_number": 1
    },
    {
     "cell_type": "markdown",
     "metadata": {},
     "source": [
      "If you run into a puzzling result via the autograder, you can re-run an individual test."
     ]
    },
    {
     "cell_type": "code",
     "collapsed": false,
     "input": [
      "%run autograder.py -t test_cases/q7/food_heuristic_grade_tricky"
     ],
     "language": "python",
     "metadata": {},
     "outputs": [
      {
       "output_type": "stream",
       "stream": "stdout",
       "text": [
        "Starting on 9-25 at 9:51:35\n",
        "*** FAIL: test_cases/q7/food_heuristic_grade_tricky.test"
       ]
      },
      {
       "output_type": "stream",
       "stream": "stdout",
       "text": [
        "\n",
        "*** \texpanded nodes: 8763\n",
        "*** \tthresholds: [15000, 12000, 9000, 7000]\n"
       ]
      }
     ],
     "prompt_number": 27
    },
    {
     "cell_type": "markdown",
     "metadata": {},
     "source": [
      "And you can see the details of the test."
     ]
    },
    {
     "cell_type": "code",
     "collapsed": false,
     "input": [
      "!cat test_cases/q7/food_heuristic_grade_tricky.test"
     ],
     "language": "python",
     "metadata": {},
     "outputs": [
      {
       "output_type": "stream",
       "stream": "stdout",
       "text": [
        "class: \"HeuristicGrade\"\r\n",
        "\r\n",
        "heuristic: \"foodHeuristic\"\r\n",
        "searchProblemClass: \"FoodSearchProblem\"\r\n",
        "layoutName: \"trickySearch\"\r\n",
        "layout: \"\"\"\r\n",
        "%%%%%%%%%%%%%%%%%%%%\r\n",
        "%.           ..%   %\r\n",
        "%.%%.%%.%%.%%.%% % %\r\n",
        "%        P       % %\r\n",
        "%%%%%%%%%%%%%%%%%% %\r\n",
        "%.....             %\r\n",
        "%%%%%%%%%%%%%%%%%%%%\r\n",
        "\"\"\"\r\n",
        "# One point always, an extra point for each\r\n",
        "# threshold passed.\r\n",
        "basePoints: \"1\"\r\n",
        "gradingThresholds: \"15000 12000 9000 7000\"\r\n",
        "\r\n"
       ]
      }
     ],
     "prompt_number": 39
    },
    {
     "cell_type": "markdown",
     "metadata": {},
     "source": [
      "After a run, global variables are available for inspection"
     ]
    },
    {
     "cell_type": "code",
     "collapsed": false,
     "input": [
      "SCARED_TIME"
     ],
     "language": "python",
     "metadata": {},
     "outputs": [
      {
       "output_type": "pyout",
       "prompt_number": 30,
       "text": [
        "40"
       ]
      }
     ],
     "prompt_number": 30
    },
    {
     "cell_type": "markdown",
     "metadata": {},
     "source": [
      "If you add the \"-m pdb\" option to python you can debug it interactively\n",
      "\n",
      "    python -m pdb autograder.py -t test_cases/q7/food_heuristic_grade_tricky"
     ]
    },
    {
     "cell_type": "heading",
     "level": 2,
     "metadata": {},
     "source": [
      "The %runpacman magic command to run a pacman game and keep the game state available for debugging"
     ]
    },
    {
     "cell_type": "markdown",
     "metadata": {},
     "source": [
      "We define a new ipython \"magic\" command, %runpacman, to preserve the gamestates which record the result of each run of pacman."
     ]
    },
    {
     "cell_type": "code",
     "collapsed": false,
     "input": [
      "import pacman\n",
      "from IPython.core.magic import (register_line_magic, register_cell_magic,\n",
      "                                register_line_cell_magic)\n",
      "@register_line_magic\n",
      "def runpacman(line):\n",
      "    \"\"\"Run pacman inside the ipython session, and put the resulting gamestates in the global variable gamestates\"\"\"\n",
      "    global gamestates\n",
      "    \n",
      "    # Split the arguments to runpacman into a list, then parse that as pacman command line arguments\n",
      "    args = pacman.readCommand(line.split())\n",
      "\n",
      "    gamestates = pacman.runGames(**args)\n",
      "    \n",
      "del runpacman  # now that the magic command is registered, delete the function object to avoid name conflicts so automagic will work"
     ],
     "language": "python",
     "metadata": {},
     "outputs": [],
     "prompt_number": 2
    },
    {
     "cell_type": "markdown",
     "metadata": {},
     "source": [
      "Here we run GoWestAgent twice, keeping track of both resulting gamestates."
     ]
    },
    {
     "cell_type": "code",
     "collapsed": false,
     "input": [
      "%runpacman --layout testMaze --pacman GoWestAgent -n 2"
     ],
     "language": "python",
     "metadata": {},
     "outputs": [
      {
       "output_type": "stream",
       "stream": "stdout",
       "text": [
        "Pacman emerges victorious! Score: 503\n",
        "Pacman emerges victorious! Score: 503"
       ]
      },
      {
       "output_type": "stream",
       "stream": "stdout",
       "text": [
        "\n",
        "Average Score:"
       ]
      },
      {
       "output_type": "stream",
       "stream": "stdout",
       "text": [
        " 503.0\n",
        "Scores:        503.0, 503.0\n",
        "Win Rate:      2/2 (1.00)\n",
        "Record:        Win, Win\n"
       ]
      }
     ],
     "prompt_number": 3
    },
    {
     "cell_type": "markdown",
     "metadata": {},
     "source": [
      "We see that GoWestAgent is pretty good at this testMaze: it won both games!"
     ]
    },
    {
     "cell_type": "code",
     "collapsed": false,
     "input": [
      "print [gamestate.state.isWin() for gamestate in gamestates]"
     ],
     "language": "python",
     "metadata": {},
     "outputs": [
      {
       "output_type": "stream",
       "stream": "stdout",
       "text": [
        "[True, True]\n"
       ]
      }
     ],
     "prompt_number": 4
    },
    {
     "cell_type": "markdown",
     "metadata": {},
     "source": [
      "Now we run pacman interactively.  Use the arrow keys to control pacman."
     ]
    },
    {
     "cell_type": "code",
     "collapsed": false,
     "input": [
      "%runpacman"
     ],
     "language": "python",
     "metadata": {},
     "outputs": [
      {
       "output_type": "stream",
       "stream": "stdout",
       "text": [
        "Pacman died! Score: -401\n",
        "Average Score:"
       ]
      },
      {
       "output_type": "stream",
       "stream": "stdout",
       "text": [
        " -401.0\n",
        "Scores:        -401.0\n",
        "Win Rate:      0/1 (0.00)\n",
        "Record:        Loss\n"
       ]
      }
     ],
     "prompt_number": 5
    },
    {
     "cell_type": "markdown",
     "metadata": {},
     "source": [
      "Look at the first gamestate some more"
     ]
    },
    {
     "cell_type": "code",
     "collapsed": false,
     "input": [
      "g = gamestates[0]"
     ],
     "language": "python",
     "metadata": {},
     "outputs": [],
     "prompt_number": 6
    },
    {
     "cell_type": "code",
     "collapsed": false,
     "input": [
      "g.state.isWin()"
     ],
     "language": "python",
     "metadata": {},
     "outputs": [
      {
       "output_type": "pyout",
       "prompt_number": 7,
       "text": [
        "False"
       ]
      }
     ],
     "prompt_number": 7
    },
    {
     "cell_type": "code",
     "collapsed": false,
     "input": [
      "g.state.getGhostPositions()"
     ],
     "language": "python",
     "metadata": {},
     "outputs": [
      {
       "output_type": "pyout",
       "prompt_number": 8,
       "text": [
        "[(14.0, 7.0), (15.0, 7.0)]"
       ]
      }
     ],
     "prompt_number": 8
    },
    {
     "cell_type": "markdown",
     "metadata": {},
     "source": [
      "Run the same game some more.  Note that since the state is now the final state, it ends again right away."
     ]
    },
    {
     "cell_type": "code",
     "collapsed": false,
     "input": [
      "g.run()\n"
     ],
     "language": "python",
     "metadata": {},
     "outputs": [],
     "prompt_number": 9
    },
    {
     "cell_type": "markdown",
     "metadata": {},
     "source": [
      "Use one question mark to learn a little bit about the gamestate"
     ]
    },
    {
     "cell_type": "code",
     "collapsed": false,
     "input": [
      "g?"
     ],
     "language": "python",
     "metadata": {},
     "outputs": [],
     "prompt_number": 10
    },
    {
     "cell_type": "markdown",
     "metadata": {},
     "source": [
      "Use two question marks to see the source code that implements the object g (i.e. class Game)"
     ]
    },
    {
     "cell_type": "code",
     "collapsed": false,
     "input": [
      "g??"
     ],
     "language": "python",
     "metadata": {},
     "outputs": [],
     "prompt_number": 11
    },
    {
     "cell_type": "heading",
     "level": 2,
     "metadata": {},
     "source": [
      "Welcome to Pacman: P1"
     ]
    },
    {
     "cell_type": "markdown",
     "metadata": {},
     "source": [
      "(*Here we incorporate some of the P1 assignment text, making it easy to run the initial steps*)"
     ]
    },
    {
     "cell_type": "markdown",
     "metadata": {},
     "source": [
      "After downloading the code (search.zip), unzipping it, and changing to the directory, you should be able to play a game of Pacman by typing the following at the command line:\n",
      "\n",
      "    python pacman.py\n",
      "\n",
      "To run it inside ipython, use the %runpacman command:"
     ]
    },
    {
     "cell_type": "code",
     "collapsed": false,
     "input": [
      "%runpacman"
     ],
     "language": "python",
     "metadata": {},
     "outputs": [
      {
       "output_type": "stream",
       "stream": "stdout",
       "text": [
        "Pacman died! Score: -400\n",
        "Average Score:"
       ]
      },
      {
       "output_type": "stream",
       "stream": "stdout",
       "text": [
        " -400.0\n",
        "Scores:        -400.0\n",
        "Win Rate:      0/1 (0.00)\n",
        "Record:        Loss\n"
       ]
      }
     ],
     "prompt_number": 12
    },
    {
     "cell_type": "markdown",
     "metadata": {},
     "source": [
      "Pacman lives in a shiny blue world of twisting corridors and tasty round treats. Navigating this world efficiently will be Pacman's first step in mastering his domain.\n",
      "\n",
      "The simplest agent in searchAgents.py is called the GoWestAgent, which always goes West (a trivial reflex agent). This agent can occasionally win:\n",
      "\n",
      "    python pacman.py --layout testMaze --pacman GoWestAgent\n",
      "\n",
      "%runpacman takes the same arguments:"
     ]
    },
    {
     "cell_type": "code",
     "collapsed": false,
     "input": [
      "%runpacman --layout testMaze --pacman GoWestAgent"
     ],
     "language": "python",
     "metadata": {},
     "outputs": [
      {
       "output_type": "stream",
       "stream": "stdout",
       "text": [
        "Pacman emerges victorious! Score: 503\n",
        "Average Score:"
       ]
      },
      {
       "output_type": "stream",
       "stream": "stdout",
       "text": [
        " 503.0\n",
        "Scores:        503.0\n",
        "Win Rate:      1/1 (1.00)\n",
        "Record:        Win\n"
       ]
      }
     ],
     "prompt_number": 13
    },
    {
     "cell_type": "markdown",
     "metadata": {},
     "source": [
      "But, things get ugly for this agent when turning is required.  **Pacman will get stuck.  When that happens, just close the pacman window manually (and just ignore the \"SystemExit\" message from ipython).**"
     ]
    },
    {
     "cell_type": "code",
     "collapsed": false,
     "input": [
      "%runpacman --layout tinyMaze --pacman GoWestAgent"
     ],
     "language": "python",
     "metadata": {},
     "outputs": [
      {
       "ename": "SystemExit",
       "evalue": "0",
       "output_type": "pyerr",
       "traceback": [
        "An exception has occurred, use %tb to see the full traceback.\n",
        "\u001b[0;31mSystemExit\u001b[0m\u001b[0;31m:\u001b[0m 0\n"
       ]
      },
      {
       "output_type": "stream",
       "stream": "stderr",
       "text": [
        "To exit: use 'exit', 'quit', or Ctrl-D."
       ]
      }
     ],
     "prompt_number": 14
    },
    {
     "cell_type": "markdown",
     "metadata": {},
     "source": [
      "If Pacman gets stuck when running from the terminal command line, you can exit the game by typing CTRL-c into your terminal.\n",
      "\n",
      "Soon, your agent will solve not only tinyMaze, but any maze you want.\n",
      "\n",
      "Note that pacman.py supports a number of options that can each be expressed in a long way (e.g., --layout) or a short way (e.g., -l). You can see the list of all options and their default values via the -h option.  (Ignore the way ipython catches the `SystemExit` exception used when pacman uses `sys.exit())`:"
     ]
    },
    {
     "cell_type": "code",
     "collapsed": false,
     "input": [
      "%runpacman -h"
     ],
     "language": "python",
     "metadata": {},
     "outputs": [
      {
       "ename": "SystemExit",
       "evalue": "0",
       "output_type": "pyerr",
       "traceback": [
        "An exception has occurred, use %tb to see the full traceback.\n",
        "\u001b[0;31mSystemExit\u001b[0m\u001b[0;31m:\u001b[0m 0\n"
       ]
      },
      {
       "output_type": "stream",
       "stream": "stdout",
       "text": [
        "Usage: \n",
        "    USAGE:      python pacman.py <options>\n",
        "    EXAMPLES:   (1) python pacman.py\n",
        "                    - starts an interactive game\n",
        "                (2) python pacman.py --layout smallClassic --zoom 2\n",
        "                OR  python pacman.py -l smallClassic -z 2\n",
        "                    - starts an interactive game on a smaller board, zoomed in\n",
        "    \n",
        "\n",
        "Options:\n",
        "  -h, --help            show this help message and exit\n",
        "  -n GAMES, --numGames=GAMES\n",
        "                        the number of GAMES to play [Default: 1]\n",
        "  -l LAYOUT_FILE, --layout=LAYOUT_FILE\n",
        "                        the LAYOUT_FILE from which to load the map layout\n",
        "                        [Default: mediumClassic]\n",
        "  -p TYPE, --pacman=TYPE\n",
        "                        the agent TYPE in the pacmanAgents module to use\n",
        "                        [Default: KeyboardAgent]\n",
        "  -t, --textGraphics    Display output as text only\n",
        "  -q, --quietTextGraphics\n",
        "                        Generate minimal output and no graphics\n",
        "  -g TYPE, --ghosts=TYPE\n",
        "                        the ghost agent TYPE in the ghostAgents module to use\n",
        "                        [Default: RandomGhost]\n",
        "  -k NUMGHOSTS, --numghosts=NUMGHOSTS\n",
        "                        The maximum number of ghosts to use [Default: 4]\n",
        "  -z ZOOM, --zoom=ZOOM  Zoom the size of the graphics window [Default: 1.0]\n",
        "  -f, --fixRandomSeed   Fixes the random seed to always play the same game\n",
        "  -r, --recordActions   Writes game histories to a file (named by the time\n",
        "                        they were played)\n",
        "  --replay=GAMETOREPLAY\n",
        "                        A recorded game file (pickle) to replay\n",
        "  -a AGENTARGS, --agentArgs=AGENTARGS\n",
        "                        Comma separated values sent to agent. e.g.\n",
        "                        \"opt1=val1,opt2,opt3=val3\"\n",
        "  -x NUMTRAINING, --numTraining=NUMTRAINING\n",
        "                        How many episodes are training (suppresses output)\n",
        "                        [Default: 0]\n",
        "  --frameTime=FRAMETIME\n",
        "                        Time to delay between frames; <0 means keyboard\n",
        "                        [Default: 0.1]\n",
        "  -c, --catchExceptions\n",
        "                        Turns on exception handling and timeouts during games\n",
        "  --timeout=TIMEOUT     Maximum length of time an agent can spend computing in\n",
        "                        a single game [Default: 30]\n"
       ]
      },
      {
       "output_type": "stream",
       "stream": "stderr",
       "text": [
        "To exit: use 'exit', 'quit', or Ctrl-D."
       ]
      }
     ],
     "prompt_number": 15
    },
    {
     "cell_type": "markdown",
     "metadata": {},
     "source": [
      "Also, all of the commands that appear in this project also appear in commands.txt, for easy copying and pasting. In UNIX/Mac OS X, you can even run all these commands in order with bash commands.txt.\n"
     ]
    },
    {
     "cell_type": "code",
     "collapsed": false,
     "input": [
      "!cat commands.txt"
     ],
     "language": "python",
     "metadata": {},
     "outputs": [
      {
       "output_type": "stream",
       "stream": "stdout",
       "text": [
        "python pacman.py\r\n",
        "python pacman.py --layout testMaze --pacman GoWestAgent\r\n",
        "python pacman.py --layout tinyMaze --pacman GoWestAgent\r\n",
        "python pacman.py -h\r\n",
        "python pacman.py -l tinyMaze -p SearchAgent -a fn=tinyMazeSearch\r\n",
        "python pacman.py -l tinyMaze -p SearchAgent\r\n",
        "python pacman.py -l mediumMaze -p SearchAgent\r\n",
        "python pacman.py -l bigMaze -z .5 -p SearchAgent\r\n",
        "python pacman.py -l mediumMaze -p SearchAgent -a fn=bfs\r\n",
        "python pacman.py -l bigMaze -p SearchAgent -a fn=bfs -z .5\r\n",
        "python eightpuzzle.py\r\n",
        "python pacman.py -l mediumMaze -p SearchAgent -a fn=ucs\r\n",
        "python pacman.py -l mediumDottedMaze -p StayEastSearchAgent\r\n",
        "python pacman.py -l mediumScaryMaze -p StayWestSearchAgent\r\n",
        "python pacman.py -l bigMaze -z .5 -p SearchAgent -a fn=astar,heuristic=manhattanHeuristic \r\n",
        "python pacman.py -l tinyCorners -p SearchAgent -a fn=bfs,prob=CornersProblem\r\n",
        "python pacman.py -l mediumCorners -p SearchAgent -a fn=bfs,prob=CornersProblem\r\n",
        "python pacman.py -l mediumCorners -p AStarCornersAgent -z 0.5\r\n",
        "python pacman.py -l testSearch -p AStarFoodSearchAgent\r\n",
        "python pacman.py -l trickySearch -p AStarFoodSearchAgent\r\n",
        "python pacman.py -l bigSearch -p ClosestDotSearchAgent -z .5 \r\n",
        "python pacman.py -l bigSearch -p ApproximateSearchAgent -z .5 -q \r\n"
       ]
      }
     ],
     "prompt_number": 16
    },
    {
     "cell_type": "heading",
     "level": 2,
     "metadata": {},
     "source": [
      "Some sample code to play with, from searchAgents.py:"
     ]
    },
    {
     "cell_type": "code",
     "collapsed": false,
     "input": [
      "from game import Directions\n",
      "from game import Agent\n",
      "from game import Actions\n",
      "class GoWestAgent(Agent):\n",
      "    \"An agent that goes West until it can't.\"\n",
      "\n",
      "    def getAction(self, state):\n",
      "        \"The agent receives a GameState (defined in pacman.py).\"\n",
      "        if Directions.WEST in state.getLegalPacmanActions():\n",
      "            return Directions.WEST\n",
      "        else:\n",
      "            return Directions.STOP\n"
     ],
     "language": "python",
     "metadata": {},
     "outputs": [],
     "prompt_number": 17
    },
    {
     "cell_type": "code",
     "collapsed": false,
     "input": [
      "Directions.SOUTH"
     ],
     "language": "python",
     "metadata": {},
     "outputs": [
      {
       "output_type": "pyout",
       "prompt_number": 18,
       "text": [
        "'South'"
       ]
      }
     ],
     "prompt_number": 18
    },
    {
     "cell_type": "code",
     "collapsed": false,
     "input": [
      "Directions??"
     ],
     "language": "python",
     "metadata": {},
     "outputs": [],
     "prompt_number": 19
    },
    {
     "cell_type": "code",
     "collapsed": false,
     "input": [
      "import searchAgents"
     ],
     "language": "python",
     "metadata": {},
     "outputs": [],
     "prompt_number": 20
    },
    {
     "cell_type": "code",
     "collapsed": false,
     "input": [
      "searchAgents.GoWestAgent??"
     ],
     "language": "python",
     "metadata": {},
     "outputs": [],
     "prompt_number": 21
    },
    {
     "cell_type": "code",
     "collapsed": false,
     "input": [
      "g.state"
     ],
     "language": "python",
     "metadata": {},
     "outputs": [
      {
       "output_type": "pyout",
       "prompt_number": 22,
       "text": [
        "<pacman.GameState instance at 0x3a38998>"
       ]
      }
     ],
     "prompt_number": 22
    },
    {
     "cell_type": "code",
     "collapsed": false,
     "input": [
      "gw = searchAgents.GoWestAgent()"
     ],
     "language": "python",
     "metadata": {},
     "outputs": [],
     "prompt_number": 23
    },
    {
     "cell_type": "code",
     "collapsed": false,
     "input": [
      "gw.getAction(g.state)"
     ],
     "language": "python",
     "metadata": {},
     "outputs": [
      {
       "output_type": "pyout",
       "prompt_number": 24,
       "text": [
        "'Stop'"
       ]
      }
     ],
     "prompt_number": 24
    },
    {
     "cell_type": "code",
     "collapsed": false,
     "input": [
      "g.state.getLegalPacmanActions()"
     ],
     "language": "python",
     "metadata": {},
     "outputs": [
      {
       "output_type": "pyout",
       "prompt_number": 25,
       "text": [
        "[]"
       ]
      }
     ],
     "prompt_number": 25
    },
    {
     "cell_type": "code",
     "collapsed": false,
     "input": [],
     "language": "python",
     "metadata": {},
     "outputs": []
    }
   ],
   "metadata": {}
  }
 ]
}