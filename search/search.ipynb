{
 "metadata": {
  "name": ""
 },
 "nbformat": 3,
 "nbformat_minor": 0,
 "worksheets": [
  {
   "cells": [
    {
     "cell_type": "markdown",
     "metadata": {},
     "source": [
      "Appreciations\n",
      "=============\n",
      "\n",
      "I have so much to appreciate: a dry house, helpful friends, the sun\n",
      "\n",
      "Your appreciations?\n"
     ]
    },
    {
     "cell_type": "markdown",
     "metadata": {},
     "source": [
      "Announcements\n",
      "=============\n",
      "VM: remember to use dropbox\n",
      "\n",
      "Note: you need to get the package cu-cs-csci3202 for ipython notebook 0.13, or get it from Ubuntu precise 12.04 backports, etc.\n"
     ]
    },
    {
     "cell_type": "markdown",
     "metadata": {},
     "source": [
      "How to run a pacman game from ipython notebook\n",
      "=============================================="
     ]
    },
    {
     "cell_type": "markdown",
     "metadata": {},
     "source": [
      "Note that this notebook should be placed in the \"search\" directory, where python.py is."
     ]
    },
    {
     "cell_type": "code",
     "collapsed": false,
     "input": [
      "!cat commands.txt"
     ],
     "language": "python",
     "metadata": {},
     "outputs": [
      {
       "output_type": "stream",
       "stream": "stdout",
       "text": [
        "python pacman.py\r\n",
        "python pacman.py --layout testMaze --pacman GoWestAgent\r\n",
        "python pacman.py --layout tinyMaze --pacman GoWestAgent\r\n",
        "python pacman.py -h\r\n",
        "python pacman.py -l tinyMaze -p SearchAgent -a fn=tinyMazeSearch\r\n",
        "python pacman.py -l tinyMaze -p SearchAgent\r\n",
        "python pacman.py -l mediumMaze -p SearchAgent\r\n",
        "python pacman.py -l bigMaze -z .5 -p SearchAgent\r\n",
        "python pacman.py -l mediumMaze -p SearchAgent -a fn=bfs\r\n",
        "python pacman.py -l bigMaze -p SearchAgent -a fn=bfs -z .5\r\n",
        "python eightpuzzle.py\r\n",
        "python pacman.py -l mediumMaze -p SearchAgent -a fn=ucs\r\n",
        "python pacman.py -l mediumDottedMaze -p StayEastSearchAgent\r\n",
        "python pacman.py -l mediumScaryMaze -p StayWestSearchAgent\r\n",
        "python pacman.py -l bigMaze -z .5 -p SearchAgent -a fn=astar,heuristic=manhattanHeuristic \r\n",
        "python pacman.py -l tinyCorners -p SearchAgent -a fn=bfs,prob=CornersProblem\r\n",
        "python pacman.py -l mediumCorners -p SearchAgent -a fn=bfs,prob=CornersProblem\r\n",
        "python pacman.py -l mediumCorners -p AStarCornersAgent -z 0.5\r\n",
        "python pacman.py -l testSearch -p AStarFoodSearchAgent\r\n",
        "python pacman.py -l trickySearch -p AStarFoodSearchAgent\r\n",
        "python pacman.py -l bigSearch -p ClosestDotSearchAgent -z .5 \r\n",
        "python pacman.py -l bigSearch -p ApproximateSearchAgent -z .5 -q \r\n"
       ]
      }
     ],
     "prompt_number": 9
    },
    {
     "cell_type": "code",
     "collapsed": false,
     "input": [
      "%run pacman --layout testMaze --pacman GoWestAgent"
     ],
     "language": "python",
     "metadata": {},
     "outputs": [
      {
       "output_type": "stream",
       "stream": "stdout",
       "text": [
        "Pacman emerges victorious! Score: 503\n",
        "Average Score:"
       ]
      },
      {
       "output_type": "stream",
       "stream": "stdout",
       "text": [
        " 503.0\n",
        "Scores:        503.0\n",
        "Win Rate:      1/1 (1.00)\n",
        "Record:        Win\n"
       ]
      }
     ],
     "prompt_number": 10
    },
    {
     "cell_type": "heading",
     "level": 2,
     "metadata": {},
     "source": [
      "How to run a pacman game and keep the game state available for debugging"
     ]
    },
    {
     "cell_type": "code",
     "collapsed": false,
     "input": [
      "import pacman"
     ],
     "language": "python",
     "metadata": {},
     "outputs": [],
     "prompt_number": 11
    },
    {
     "cell_type": "code",
     "collapsed": false,
     "input": [
      "args = pacman.readCommand([])\n"
     ],
     "language": "python",
     "metadata": {},
     "outputs": [],
     "prompt_number": 12
    },
    {
     "cell_type": "code",
     "collapsed": false,
     "input": [
      "gamestate = pacman.runGames(**args)"
     ],
     "language": "python",
     "metadata": {},
     "outputs": [
      {
       "output_type": "stream",
       "stream": "stdout",
       "text": [
        "Pacman died! Score: 129\n",
        "Average Score:"
       ]
      },
      {
       "output_type": "stream",
       "stream": "stdout",
       "text": [
        " 129.0\n",
        "Scores:        129.0\n",
        "Win Rate:      0/1 (0.00)\n",
        "Record:        Loss\n"
       ]
      }
     ],
     "prompt_number": 13
    },
    {
     "cell_type": "code",
     "collapsed": false,
     "input": [
      "g = gamestate[0]\n"
     ],
     "language": "python",
     "metadata": {},
     "outputs": [],
     "prompt_number": 14
    },
    {
     "cell_type": "code",
     "collapsed": false,
     "input": [
      "g.state.isWin()"
     ],
     "language": "python",
     "metadata": {},
     "outputs": [
      {
       "metadata": {},
       "output_type": "pyout",
       "prompt_number": 15,
       "text": [
        "False"
       ]
      }
     ],
     "prompt_number": 15
    },
    {
     "cell_type": "code",
     "collapsed": false,
     "input": [
      "g.state.getGhostPositions()"
     ],
     "language": "python",
     "metadata": {},
     "outputs": [
      {
       "metadata": {},
       "output_type": "pyout",
       "prompt_number": 16,
       "text": [
        "[(10.0, 6.0), (9.0, 6.0)]"
       ]
      }
     ],
     "prompt_number": 16
    },
    {
     "cell_type": "markdown",
     "metadata": {},
     "source": [
      "Run the game.  Note that since the state is now the final state, it ends again right away."
     ]
    },
    {
     "cell_type": "code",
     "collapsed": false,
     "input": [
      "g.run()\n"
     ],
     "language": "python",
     "metadata": {},
     "outputs": [],
     "prompt_number": 17
    },
    {
     "cell_type": "markdown",
     "metadata": {},
     "source": [
      "Use two question marks to see the source code that implements the object g (i.e. class Game)"
     ]
    },
    {
     "cell_type": "code",
     "collapsed": false,
     "input": [
      "g??"
     ],
     "language": "python",
     "metadata": {},
     "outputs": [],
     "prompt_number": 29
    },
    {
     "cell_type": "heading",
     "level": 2,
     "metadata": {},
     "source": [
      "Some sample code to play with, from searchAgents.py:"
     ]
    },
    {
     "cell_type": "code",
     "collapsed": false,
     "input": [
      "from game import Directions\n",
      "from game import Agent\n",
      "from game import Actions\n",
      "class GoWestAgent(Agent):\n",
      "    \"An agent that goes West until it can't.\"\n",
      "\n",
      "    def getAction(self, state):\n",
      "        \"The agent receives a GameState (defined in pacman.py).\"\n",
      "        if Directions.WEST in state.getLegalPacmanActions():\n",
      "            return Directions.WEST\n",
      "        else:\n",
      "            return Directions.STOP\n"
     ],
     "language": "python",
     "metadata": {},
     "outputs": [],
     "prompt_number": 19
    },
    {
     "cell_type": "code",
     "collapsed": false,
     "input": [
      "Directions.SOUTH"
     ],
     "language": "python",
     "metadata": {},
     "outputs": [
      {
       "metadata": {},
       "output_type": "pyout",
       "prompt_number": 20,
       "text": [
        "'South'"
       ]
      }
     ],
     "prompt_number": 20
    },
    {
     "cell_type": "code",
     "collapsed": false,
     "input": [
      "Directions??"
     ],
     "language": "python",
     "metadata": {},
     "outputs": [],
     "prompt_number": 21
    },
    {
     "cell_type": "code",
     "collapsed": false,
     "input": [
      "import searchAgents"
     ],
     "language": "python",
     "metadata": {},
     "outputs": [],
     "prompt_number": 22
    },
    {
     "cell_type": "code",
     "collapsed": false,
     "input": [
      "searchAgents.GoWestAgent??"
     ],
     "language": "python",
     "metadata": {},
     "outputs": [],
     "prompt_number": 23
    },
    {
     "cell_type": "code",
     "collapsed": false,
     "input": [
      "g.state"
     ],
     "language": "python",
     "metadata": {},
     "outputs": [
      {
       "metadata": {},
       "output_type": "pyout",
       "prompt_number": 24,
       "text": [
        "<pacman.GameState instance at 0x104766f38>"
       ]
      }
     ],
     "prompt_number": 24
    },
    {
     "cell_type": "code",
     "collapsed": false,
     "input": [
      "gw = searchAgents.GoWestAgent()"
     ],
     "language": "python",
     "metadata": {},
     "outputs": [],
     "prompt_number": 25
    },
    {
     "cell_type": "code",
     "collapsed": false,
     "input": [
      "gw.getAction(g.state)"
     ],
     "language": "python",
     "metadata": {},
     "outputs": [
      {
       "metadata": {},
       "output_type": "pyout",
       "prompt_number": 26,
       "text": [
        "'Stop'"
       ]
      }
     ],
     "prompt_number": 26
    },
    {
     "cell_type": "code",
     "collapsed": false,
     "input": [
      "g.state.getLegalPacmanActions()"
     ],
     "language": "python",
     "metadata": {},
     "outputs": [
      {
       "metadata": {},
       "output_type": "pyout",
       "prompt_number": 27,
       "text": [
        "[]"
       ]
      }
     ],
     "prompt_number": 27
    }
   ],
   "metadata": {}
  }
 ]
}