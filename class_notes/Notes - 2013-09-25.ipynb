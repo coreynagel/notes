{
 "metadata": {
  "name": "Notes - 2013-09-25"
 },
 "nbformat": 3,
 "nbformat_minor": 0,
 "worksheets": [
  {
   "cells": [
    {
     "cell_type": "heading",
     "level": 1,
     "metadata": {},
     "source": [
      "Notes for Wed, 2013-09-25"
     ]
    },
    {
     "cell_type": "heading",
     "level": 2,
     "metadata": {},
     "source": [
      "Appreciations"
     ]
    },
    {
     "cell_type": "heading",
     "level": 2,
     "metadata": {},
     "source": [
      "Announcements"
     ]
    },
    {
     "cell_type": "markdown",
     "metadata": {},
     "source": [
      "* P1 Search extended until Monday at 5:00 PM EDT\n",
      "* HW3 still due this evening at 5:00 PM EDT\n",
      "* For Friday: watch Lecture 8, we'll do some Markov Decision Process (MDP) problems"
     ]
    },
    {
     "cell_type": "heading",
     "level": 2,
     "metadata": {},
     "source": [
      "Today"
     ]
    },
    {
     "cell_type": "markdown",
     "metadata": {},
     "source": [
      "* Review last homework question\n",
      "* Questions on search?\n",
      "* Review dev env options\n",
      "* Demo more IPython notebook: updated search.ipynb in github \"notes\" repo\n",
      "* Demo your dev env!\n"
     ]
    }
   ],
   "metadata": {}
  }
 ]
}